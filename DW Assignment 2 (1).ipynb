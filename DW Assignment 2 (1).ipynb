{
 "cells": [
  {
   "cell_type": "raw",
   "id": "b920e17b",
   "metadata": {},
   "source": [
    "# 1.Import the necessary libraries"
   ]
  },
  {
   "cell_type": "code",
   "execution_count": 16,
   "id": "1613b2ec",
   "metadata": {},
   "outputs": [],
   "source": [
    "import pandas as pd"
   ]
  },
  {
   "cell_type": "code",
   "execution_count": null,
   "id": "92c7b6f2",
   "metadata": {},
   "outputs": [],
   "source": [
    "import pandas as pd\n",
    "url = 'https://raw.githubusercontent.com/justmarkham/DAT8/master/data/u.user'\n",
    "users=pd.read_csv(url)\n",
    "print(users)"
   ]
  },
  {
   "cell_type": "raw",
   "id": "720b5a7e",
   "metadata": {},
   "source": [
    "# 2.Assign it to a variable called users and use the 'user_id' as index"
   ]
  },
  {
   "cell_type": "code",
   "execution_count": null,
   "id": "a5d04639",
   "metadata": {},
   "outputs": [],
   "source": [
    "import pandas as pd\n",
    "users=pd.read_csv(url,sep=\"|\",index_col=\"user_id\")\n",
    "users"
   ]
  },
  {
   "cell_type": "raw",
   "id": "5dfdff16",
   "metadata": {},
   "source": [
    "# 3.See the first 10 and last 10 entries"
   ]
  },
  {
   "cell_type": "code",
   "execution_count": null,
   "id": "b6d3357d",
   "metadata": {},
   "outputs": [],
   "source": [
    "import pandas as pd\n",
    "print(users.head(10))\n",
    "print(users.tail(10))"
   ]
  },
  {
   "cell_type": "raw",
   "id": "cb395cb0",
   "metadata": {},
   "source": [
    "# 4.What is the number of observations in the dataset?"
   ]
  },
  {
   "cell_type": "code",
   "execution_count": null,
   "id": "f3b8576e",
   "metadata": {},
   "outputs": [],
   "source": [
    "import pandas as pd\n",
    "users.shape[0]"
   ]
  },
  {
   "cell_type": "raw",
   "id": "dbccbf9f",
   "metadata": {},
   "source": [
    "# 5. What is the number of columns in the dataset? "
   ]
  },
  {
   "cell_type": "code",
   "execution_count": null,
   "id": "9a858936",
   "metadata": {},
   "outputs": [],
   "source": [
    "import pandas as pd\n",
    "users.shape[1]"
   ]
  },
  {
   "cell_type": "raw",
   "id": "4076b3f1",
   "metadata": {},
   "source": [
    "# 6. Print the name of all the columns."
   ]
  },
  {
   "cell_type": "code",
   "execution_count": null,
   "id": "652a8f1b",
   "metadata": {},
   "outputs": [],
   "source": [
    "import pandas as pd\n",
    "users.columns"
   ]
  },
  {
   "cell_type": "raw",
   "id": "7b7417fa",
   "metadata": {},
   "source": [
    "# 7. How is the dataset indexed?"
   ]
  },
  {
   "cell_type": "code",
   "execution_count": null,
   "id": "889ec269",
   "metadata": {},
   "outputs": [],
   "source": [
    "import pandas as pd\n",
    "users.index"
   ]
  },
  {
   "cell_type": "raw",
   "id": "e4d41f4a",
   "metadata": {},
   "source": [
    "# 8. What is the data type of each column?"
   ]
  },
  {
   "cell_type": "code",
   "execution_count": null,
   "id": "49585af3",
   "metadata": {},
   "outputs": [],
   "source": [
    "import pandas as pd\n",
    "users.dtypes"
   ]
  },
  {
   "cell_type": "raw",
   "id": "d514486b",
   "metadata": {},
   "source": [
    "# 9. Print only the occupation column."
   ]
  },
  {
   "cell_type": "code",
   "execution_count": null,
   "id": "00ad2c9b",
   "metadata": {},
   "outputs": [],
   "source": [
    "import pandas as pd\n",
    "users[\"occupation\"]"
   ]
  },
  {
   "cell_type": "raw",
   "id": "f5f0cad9",
   "metadata": {},
   "source": [
    "# 10. How many different occupations are in this dataset?"
   ]
  },
  {
   "cell_type": "code",
   "execution_count": null,
   "id": "7ae89f50",
   "metadata": {},
   "outputs": [],
   "source": [
    "import pandas as pd\n",
    "users[\"occupation\"].value_counts().count()"
   ]
  },
  {
   "cell_type": "raw",
   "id": "41b3c0cb",
   "metadata": {},
   "source": [
    "# 11. What is the most frequent occupation?"
   ]
  },
  {
   "cell_type": "code",
   "execution_count": null,
   "id": "3ec5160a",
   "metadata": {},
   "outputs": [],
   "source": [
    "import pandas as pd\n",
    "users[\"occupation\"].value_counts().sort_values(ascending=False).head()"
   ]
  },
  {
   "cell_type": "raw",
   "id": "02aa9499",
   "metadata": {},
   "source": [
    "# 12. DataFrame Info."
   ]
  },
  {
   "cell_type": "code",
   "execution_count": null,
   "id": "c25fd3d9",
   "metadata": {},
   "outputs": [],
   "source": [
    "import pandas as pd\n",
    "users.describe()"
   ]
  },
  {
   "cell_type": "raw",
   "id": "658bf038",
   "metadata": {},
   "source": [
    "# 13. Describe all the columns"
   ]
  },
  {
   "cell_type": "code",
   "execution_count": null,
   "id": "9dadd0d0",
   "metadata": {},
   "outputs": [],
   "source": [
    "import pandas as pd\n",
    "users.describe(include=\"all\")"
   ]
  },
  {
   "cell_type": "raw",
   "id": "9b6f6c4e",
   "metadata": {},
   "source": [
    "# 14. Summarize only the occupation column"
   ]
  },
  {
   "cell_type": "code",
   "execution_count": null,
   "id": "c697569e",
   "metadata": {},
   "outputs": [],
   "source": [
    "import pandas as pd\n",
    "users.occupation.describe()"
   ]
  },
  {
   "cell_type": "raw",
   "id": "c7b6d52a",
   "metadata": {},
   "source": [
    "# 15. What is the mean age of users?"
   ]
  },
  {
   "cell_type": "code",
   "execution_count": null,
   "id": "83361c5f",
   "metadata": {},
   "outputs": [],
   "source": [
    "import pandas as pd\n",
    "users.age.mean()"
   ]
  },
  {
   "cell_type": "raw",
   "id": "394d033d",
   "metadata": {},
   "source": [
    "# 16. What is the age with least occurrence?"
   ]
  },
  {
   "cell_type": "code",
   "execution_count": null,
   "id": "4a954f19",
   "metadata": {},
   "outputs": [],
   "source": [
    "import pandas as pd\n",
    "users.age.value_counts().tail()"
   ]
  },
  {
   "cell_type": "code",
   "execution_count": null,
   "id": "89dfdf2a",
   "metadata": {},
   "outputs": [],
   "source": []
  }
 ],
 "metadata": {
  "kernelspec": {
   "display_name": "Python 3 (ipykernel)",
   "language": "python",
   "name": "python3"
  },
  "language_info": {
   "codemirror_mode": {
    "name": "ipython",
    "version": 3
   },
   "file_extension": ".py",
   "mimetype": "text/x-python",
   "name": "python",
   "nbconvert_exporter": "python",
   "pygments_lexer": "ipython3",
   "version": "3.10.9"
  }
 },
 "nbformat": 4,
 "nbformat_minor": 5
}
