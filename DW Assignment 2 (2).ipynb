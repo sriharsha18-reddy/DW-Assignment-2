{
 "cells": [
  {
   "cell_type": "code",
   "execution_count": null,
   "id": "e0f28b9f",
   "metadata": {},
   "outputs": [],
   "source": [
    "# 1.Import the necessary libraries"
   ]
  },
  {
   "cell_type": "code",
   "execution_count": 16,
   "id": "1613b2ec",
   "metadata": {},
   "outputs": [],
   "source": [
    "import pandas as pd"
   ]
  },
  {
   "cell_type": "code",
   "execution_count": null,
   "id": "92c7b6f2",
   "metadata": {},
   "outputs": [],
   "source": [
    "import pandas as pd\n",
    "url = 'https://raw.githubusercontent.com/justmarkham/DAT8/master/data/u.user'\n",
    "users=pd.read_csv(url)\n",
    "print(users)"
   ]
  },
  {
   "cell_type": "code",
   "execution_count": null,
   "id": "9a00e793",
   "metadata": {},
   "outputs": [],
   "source": [
    "# 2.Assign it to a variable called users and use the 'user_id' as index"
   ]
  },
  {
   "cell_type": "code",
   "execution_count": null,
   "id": "a5d04639",
   "metadata": {},
   "outputs": [],
   "source": [
    "import pandas as pd\n",
    "users=pd.read_csv(url,sep=\"|\",index_col=\"user_id\")\n",
    "users"
   ]
  },
  {
   "cell_type": "code",
   "execution_count": null,
   "id": "1dd07084",
   "metadata": {},
   "outputs": [],
   "source": [
    "# 3.See the first 10 and last 10 entries"
   ]
  },
  {
   "cell_type": "code",
   "execution_count": null,
   "id": "aa42a447",
   "metadata": {},
   "outputs": [],
   "source": [
    "import pandas as pd\n",
    "print(users.head(10))\n",
    "print(users.tail(10))"
   ]
  },
  {
   "cell_type": "code",
   "execution_count": null,
   "id": "eab82630",
   "metadata": {},
   "outputs": [],
   "source": [
    "# 4.What is the number of observations in the dataset?"
   ]
  },
  {
   "cell_type": "code",
   "execution_count": null,
   "id": "f16e3f9a",
   "metadata": {},
   "outputs": [],
   "source": [
    "import pandas as pd\n",
    "users.shape[0]"
   ]
  },
  {
   "cell_type": "code",
   "execution_count": null,
   "id": "1bb53610",
   "metadata": {},
   "outputs": [],
   "source": [
    "# 5. What is the number of columns in the dataset? "
   ]
  },
  {
   "cell_type": "code",
   "execution_count": null,
   "id": "52e5b177",
   "metadata": {},
   "outputs": [],
   "source": [
    "import pandas as pd\n",
    "users.shape[1]"
   ]
  },
  {
   "cell_type": "code",
   "execution_count": null,
   "id": "bc971f2c",
   "metadata": {},
   "outputs": [],
   "source": [
    "# 6. Print the name of all the columns."
   ]
  },
  {
   "cell_type": "code",
   "execution_count": null,
   "id": "6ab253a3",
   "metadata": {},
   "outputs": [],
   "source": [
    "import pandas as pd\n",
    "users.columns"
   ]
  },
  {
   "cell_type": "code",
   "execution_count": null,
   "id": "0ddde032",
   "metadata": {},
   "outputs": [],
   "source": [
    "# 7. How is the dataset indexed?"
   ]
  },
  {
   "cell_type": "code",
   "execution_count": null,
   "id": "107e5bef",
   "metadata": {},
   "outputs": [],
   "source": [
    "import pandas as pd\n",
    "users.index"
   ]
  },
  {
   "cell_type": "code",
   "execution_count": null,
   "id": "f1131676",
   "metadata": {},
   "outputs": [],
   "source": [
    "# 8. What is the data type of each column?"
   ]
  },
  {
   "cell_type": "code",
   "execution_count": null,
   "id": "21d86ce5",
   "metadata": {},
   "outputs": [],
   "source": [
    "import pandas as pd\n",
    "users.dtypes"
   ]
  },
  {
   "cell_type": "code",
   "execution_count": null,
   "id": "9433d85a",
   "metadata": {},
   "outputs": [],
   "source": [
    "# 9. Print only the occupation column."
   ]
  },
  {
   "cell_type": "code",
   "execution_count": null,
   "id": "d3861618",
   "metadata": {},
   "outputs": [],
   "source": [
    "import pandas as pd\n",
    "users[\"occupation\"]"
   ]
  },
  {
   "cell_type": "code",
   "execution_count": null,
   "id": "60db2751",
   "metadata": {},
   "outputs": [],
   "source": [
    "# 10. How many different occupations are in this dataset?"
   ]
  },
  {
   "cell_type": "code",
   "execution_count": null,
   "id": "732644fc",
   "metadata": {},
   "outputs": [],
   "source": [
    "import pandas as pd\n",
    "users[\"occupation\"].value_counts().count()"
   ]
  },
  {
   "cell_type": "code",
   "execution_count": null,
   "id": "5888142e",
   "metadata": {},
   "outputs": [],
   "source": [
    "# 11. What is the most frequent occupation?"
   ]
  },
  {
   "cell_type": "code",
   "execution_count": null,
   "id": "14f99b0d",
   "metadata": {},
   "outputs": [],
   "source": [
    "import pandas as pd\n",
    "users[\"occupation\"].value_counts().sort_values(ascending=False).head()"
   ]
  },
  {
   "cell_type": "code",
   "execution_count": null,
   "id": "41ea2e98",
   "metadata": {},
   "outputs": [],
   "source": [
    "# 12. DataFrame Info."
   ]
  },
  {
   "cell_type": "code",
   "execution_count": null,
   "id": "fadf580d",
   "metadata": {},
   "outputs": [],
   "source": [
    "import pandas as pd\n",
    "users.describe()"
   ]
  },
  {
   "cell_type": "code",
   "execution_count": null,
   "id": "137fd4c4",
   "metadata": {},
   "outputs": [],
   "source": [
    "# 13. Describe all the columns"
   ]
  },
  {
   "cell_type": "code",
   "execution_count": null,
   "id": "961b15c2",
   "metadata": {},
   "outputs": [],
   "source": [
    "import pandas as pd\n",
    "users.describe(include=\"all\")"
   ]
  },
  {
   "cell_type": "code",
   "execution_count": null,
   "id": "88f26cee",
   "metadata": {},
   "outputs": [],
   "source": [
    "# 14. Summarize only the occupation column"
   ]
  },
  {
   "cell_type": "code",
   "execution_count": null,
   "id": "3f5b4905",
   "metadata": {},
   "outputs": [],
   "source": [
    "import pandas as pd\n",
    "users.occupation.describe()"
   ]
  },
  {
   "cell_type": "code",
   "execution_count": null,
   "id": "3e8a4244",
   "metadata": {},
   "outputs": [],
   "source": [
    "# 15. What is the mean age of users?"
   ]
  },
  {
   "cell_type": "code",
   "execution_count": null,
   "id": "6d77689f",
   "metadata": {},
   "outputs": [],
   "source": [
    "import pandas as pd\n",
    "users.age.mean()"
   ]
  },
  {
   "cell_type": "code",
   "execution_count": null,
   "id": "f6e8e835",
   "metadata": {},
   "outputs": [],
   "source": [
    "# 16. What is the age with least occurrence?"
   ]
  },
  {
   "cell_type": "code",
   "execution_count": null,
   "id": "4a954f19",
   "metadata": {},
   "outputs": [],
   "source": [
    "import pandas as pd\n",
    "users.age.value_counts().tail()"
   ]
  },
  {
   "cell_type": "code",
   "execution_count": null,
   "id": "89dfdf2a",
   "metadata": {},
   "outputs": [],
   "source": []
  }
 ],
 "metadata": {
  "kernelspec": {
   "display_name": "Python 3 (ipykernel)",
   "language": "python",
   "name": "python3"
  },
  "language_info": {
   "codemirror_mode": {
    "name": "ipython",
    "version": 3
   },
   "file_extension": ".py",
   "mimetype": "text/x-python",
   "name": "python",
   "nbconvert_exporter": "python",
   "pygments_lexer": "ipython3",
   "version": "3.10.9"
  }
 },
 "nbformat": 4,
 "nbformat_minor": 5
}
